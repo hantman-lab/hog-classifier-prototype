{
 "cells": [
  {
   "cell_type": "markdown",
   "id": "b283082b-9168-4369-a85c-2401dcb4e535",
   "metadata": {},
   "source": [
    "# Dynamically view HOG Features on CPU using fpl"
   ]
  },
  {
   "cell_type": "code",
   "execution_count": 1,
   "id": "81df5fca-d105-4223-9ce3-42cc87f58710",
   "metadata": {},
   "outputs": [],
   "source": [
    "from fastplotlib.layouts import GridPlot\n",
    "from ipywidgets import IntSlider, VBox\n",
    "from skimage.feature import hog\n",
    "from skimage import data, exposure\n",
    "from decord import VideoReader\n",
    "import cv2\n",
    "import numpy as np"
   ]
  },
  {
   "cell_type": "code",
   "execution_count": 2,
   "id": "91659521-4176-43f5-8edb-a6f4874839c1",
   "metadata": {},
   "outputs": [],
   "source": [
    "video_path = \"/home/clewis7/repos/hog-classifier-prototype/eaf3_2022-12-18_s4_side_v028.avi\""
   ]
  },
  {
   "cell_type": "code",
   "execution_count": 3,
   "id": "c7c0e23c-4391-4b4f-befb-2b050a3eae52",
   "metadata": {},
   "outputs": [],
   "source": [
    "vr = VideoReader(video_path)"
   ]
  },
  {
   "cell_type": "code",
   "execution_count": 4,
   "id": "17054688-03f0-4e91-898f-47710ef70ce1",
   "metadata": {},
   "outputs": [],
   "source": [
    "to_gray = lambda f: cv2.cvtColor(f, cv2.COLOR_BGR2GRAY)"
   ]
  },
  {
   "cell_type": "code",
   "execution_count": 5,
   "id": "c5934ec3-e5c9-4120-adee-b7189061c6a3",
   "metadata": {},
   "outputs": [
    {
     "data": {
      "application/vnd.jupyter.widget-view+json": {
       "model_id": "13d8c6be3e2b4eb7be9468d72d5b98ac",
       "version_major": 2,
       "version_minor": 0
      },
      "text/plain": [
       "RFBOutputContext()"
      ]
     },
     "metadata": {},
     "output_type": "display_data"
    },
    {
     "data": {
      "application/vnd.jupyter.widget-view+json": {
       "model_id": "13d9a9ab616345c79f07f71f8c1703ff",
       "version_major": 2,
       "version_minor": 0
      },
      "text/plain": [
       "VBox(children=(JupyterWgpuCanvas(), IntSlider(value=0, max=10623)))"
      ]
     },
     "metadata": {},
     "output_type": "display_data"
    }
   ],
   "source": [
    "gp = GridPlot(shape=(1,2), names=[[\"raw\", \"hog\"]])\n",
    "\n",
    "\n",
    "gp[0,0].camera.scale.y = -1\n",
    "gp[0,1].camera.scale.y = -1\n",
    "\n",
    "frame0 = to_gray(vr[0].asnumpy())\n",
    "\n",
    "\n",
    "fd, hog0 = hog(\n",
    "    frame0, \n",
    "    orientations=8, \n",
    "    pixels_per_cell=(8,8), \n",
    "    cells_per_block=(1,1), \n",
    "    visualize=True\n",
    ")\n",
    "\n",
    "gp[\"raw\"].add_image(frame0, cmap=\"gray\")\n",
    "gp[\"hog\"].add_image(hog0, cmap=\"gray\")\n",
    "\n",
    "slider = IntSlider(min=0, max=len(vr)-1, step=1, value=0)\n",
    "\n",
    "def update_movie(change):\n",
    "    index = change[\"new\"]\n",
    "    new = to_gray(vr[index].asnumpy())\n",
    "    gp[\"raw\"].graphics[0].data = new\n",
    "    fd, new_hog = hog(\n",
    "        new, \n",
    "        orientations=8, \n",
    "        pixels_per_cell=(8,8), \n",
    "        cells_per_block=(1,1), \n",
    "        visualize=True\n",
    "    )\n",
    "\n",
    "    gp[\"hog\"].graphics[0].data = new_hog\n",
    "    \n",
    "slider.observe(update_movie, \"value\")\n",
    "    \n",
    "# Use an ipywidgets VBox to show the plot and slider\n",
    "VBox([gp.show(), slider])"
   ]
  },
  {
   "cell_type": "code",
   "execution_count": 6,
   "id": "190e8ca4-6f25-4690-9b84-50ff2356ec60",
   "metadata": {},
   "outputs": [],
   "source": [
    "labels = np.zeros(10623, dtype=int)"
   ]
  },
  {
   "cell_type": "code",
   "execution_count": 7,
   "id": "58316164-9566-48fa-83da-518c60a00e0b",
   "metadata": {},
   "outputs": [
    {
     "data": {
      "text/plain": [
       "(10623,)"
      ]
     },
     "execution_count": 7,
     "metadata": {},
     "output_type": "execute_result"
    }
   ],
   "source": [
    "labels.shape"
   ]
  },
  {
   "cell_type": "code",
   "execution_count": 8,
   "id": "f447977e-73a3-4887-b0fb-b0be4714f005",
   "metadata": {},
   "outputs": [],
   "source": [
    "labels[1636:1660]=1"
   ]
  },
  {
   "cell_type": "code",
   "execution_count": 9,
   "id": "b76676cf-f25d-4767-8591-d1739390e442",
   "metadata": {},
   "outputs": [],
   "source": [
    "labels[1713:1741]=1"
   ]
  },
  {
   "cell_type": "code",
   "execution_count": 10,
   "id": "f24cf71b-0f9a-48be-8062-ba7768b4e9c4",
   "metadata": {},
   "outputs": [],
   "source": [
    "labels[2895:2915]=1"
   ]
  },
  {
   "cell_type": "code",
   "execution_count": 11,
   "id": "a3e3333f-1f4a-4c89-8021-32ddd30b9adc",
   "metadata": {},
   "outputs": [],
   "source": [
    "from sklearn.linear_model import LogisticRegression"
   ]
  },
  {
   "cell_type": "code",
   "execution_count": 24,
   "id": "e8216f20-45e0-44fa-a578-263ab640606e",
   "metadata": {},
   "outputs": [],
   "source": [
    "clf = LogisticRegression(max_iter=1_000)"
   ]
  },
  {
   "cell_type": "code",
   "execution_count": 13,
   "id": "22182355-24ed-49cc-8dbb-4f6427c33703",
   "metadata": {},
   "outputs": [],
   "source": [
    "from tqdm import tqdm"
   ]
  },
  {
   "cell_type": "code",
   "execution_count": 20,
   "id": "e97e93c8-a397-4c8a-b408-615d8f8f88c1",
   "metadata": {},
   "outputs": [
    {
     "name": "stderr",
     "output_type": "stream",
     "text": [
      "100%|██████████████████████████████████████████| 400/400 [00:28<00:00, 13.96it/s]\n"
     ]
    }
   ],
   "source": [
    "hogs = list()\n",
    "for frame in tqdm(range(1400,1800)):\n",
    "    new = to_gray(vr[frame].asnumpy())\n",
    "    fd, hog1 = hog(\n",
    "        new, \n",
    "        orientations=8, \n",
    "        pixels_per_cell=(8,8), \n",
    "        cells_per_block=(1,1), \n",
    "        visualize=True\n",
    "    )\n",
    "    hogs.append(hog1.ravel())"
   ]
  },
  {
   "cell_type": "code",
   "execution_count": 25,
   "id": "cc075e9d-0d34-4b77-95d3-9df16a0f5a11",
   "metadata": {},
   "outputs": [
    {
     "data": {
      "text/html": [
       "<style>#sk-container-id-3 {color: black;background-color: white;}#sk-container-id-3 pre{padding: 0;}#sk-container-id-3 div.sk-toggleable {background-color: white;}#sk-container-id-3 label.sk-toggleable__label {cursor: pointer;display: block;width: 100%;margin-bottom: 0;padding: 0.3em;box-sizing: border-box;text-align: center;}#sk-container-id-3 label.sk-toggleable__label-arrow:before {content: \"▸\";float: left;margin-right: 0.25em;color: #696969;}#sk-container-id-3 label.sk-toggleable__label-arrow:hover:before {color: black;}#sk-container-id-3 div.sk-estimator:hover label.sk-toggleable__label-arrow:before {color: black;}#sk-container-id-3 div.sk-toggleable__content {max-height: 0;max-width: 0;overflow: hidden;text-align: left;background-color: #f0f8ff;}#sk-container-id-3 div.sk-toggleable__content pre {margin: 0.2em;color: black;border-radius: 0.25em;background-color: #f0f8ff;}#sk-container-id-3 input.sk-toggleable__control:checked~div.sk-toggleable__content {max-height: 200px;max-width: 100%;overflow: auto;}#sk-container-id-3 input.sk-toggleable__control:checked~label.sk-toggleable__label-arrow:before {content: \"▾\";}#sk-container-id-3 div.sk-estimator input.sk-toggleable__control:checked~label.sk-toggleable__label {background-color: #d4ebff;}#sk-container-id-3 div.sk-label input.sk-toggleable__control:checked~label.sk-toggleable__label {background-color: #d4ebff;}#sk-container-id-3 input.sk-hidden--visually {border: 0;clip: rect(1px 1px 1px 1px);clip: rect(1px, 1px, 1px, 1px);height: 1px;margin: -1px;overflow: hidden;padding: 0;position: absolute;width: 1px;}#sk-container-id-3 div.sk-estimator {font-family: monospace;background-color: #f0f8ff;border: 1px dotted black;border-radius: 0.25em;box-sizing: border-box;margin-bottom: 0.5em;}#sk-container-id-3 div.sk-estimator:hover {background-color: #d4ebff;}#sk-container-id-3 div.sk-parallel-item::after {content: \"\";width: 100%;border-bottom: 1px solid gray;flex-grow: 1;}#sk-container-id-3 div.sk-label:hover label.sk-toggleable__label {background-color: #d4ebff;}#sk-container-id-3 div.sk-serial::before {content: \"\";position: absolute;border-left: 1px solid gray;box-sizing: border-box;top: 0;bottom: 0;left: 50%;z-index: 0;}#sk-container-id-3 div.sk-serial {display: flex;flex-direction: column;align-items: center;background-color: white;padding-right: 0.2em;padding-left: 0.2em;position: relative;}#sk-container-id-3 div.sk-item {position: relative;z-index: 1;}#sk-container-id-3 div.sk-parallel {display: flex;align-items: stretch;justify-content: center;background-color: white;position: relative;}#sk-container-id-3 div.sk-item::before, #sk-container-id-3 div.sk-parallel-item::before {content: \"\";position: absolute;border-left: 1px solid gray;box-sizing: border-box;top: 0;bottom: 0;left: 50%;z-index: -1;}#sk-container-id-3 div.sk-parallel-item {display: flex;flex-direction: column;z-index: 1;position: relative;background-color: white;}#sk-container-id-3 div.sk-parallel-item:first-child::after {align-self: flex-end;width: 50%;}#sk-container-id-3 div.sk-parallel-item:last-child::after {align-self: flex-start;width: 50%;}#sk-container-id-3 div.sk-parallel-item:only-child::after {width: 0;}#sk-container-id-3 div.sk-dashed-wrapped {border: 1px dashed gray;margin: 0 0.4em 0.5em 0.4em;box-sizing: border-box;padding-bottom: 0.4em;background-color: white;}#sk-container-id-3 div.sk-label label {font-family: monospace;font-weight: bold;display: inline-block;line-height: 1.2em;}#sk-container-id-3 div.sk-label-container {text-align: center;}#sk-container-id-3 div.sk-container {/* jupyter's `normalize.less` sets `[hidden] { display: none; }` but bootstrap.min.css set `[hidden] { display: none !important; }` so we also need the `!important` here to be able to override the default hidden behavior on the sphinx rendered scikit-learn.org. See: https://github.com/scikit-learn/scikit-learn/issues/21755 */display: inline-block !important;position: relative;}#sk-container-id-3 div.sk-text-repr-fallback {display: none;}</style><div id=\"sk-container-id-3\" class=\"sk-top-container\"><div class=\"sk-text-repr-fallback\"><pre>LogisticRegression(max_iter=1000)</pre><b>In a Jupyter environment, please rerun this cell to show the HTML representation or trust the notebook. <br />On GitHub, the HTML representation is unable to render, please try loading this page with nbviewer.org.</b></div><div class=\"sk-container\" hidden><div class=\"sk-item\"><div class=\"sk-estimator sk-toggleable\"><input class=\"sk-toggleable__control sk-hidden--visually\" id=\"sk-estimator-id-3\" type=\"checkbox\" checked><label for=\"sk-estimator-id-3\" class=\"sk-toggleable__label sk-toggleable__label-arrow\">LogisticRegression</label><div class=\"sk-toggleable__content\"><pre>LogisticRegression(max_iter=1000)</pre></div></div></div></div></div>"
      ],
      "text/plain": [
       "LogisticRegression(max_iter=1000)"
      ]
     },
     "execution_count": 25,
     "metadata": {},
     "output_type": "execute_result"
    }
   ],
   "source": [
    "clf.fit(np.vstack(hogs), labels[1400:1800])"
   ]
  },
  {
   "cell_type": "code",
   "execution_count": 54,
   "id": "a836d48f-68d3-4864-8f1a-0c354e4e15e4",
   "metadata": {},
   "outputs": [
    {
     "data": {
      "text/plain": [
       "0.999999791974584"
      ]
     },
     "execution_count": 54,
     "metadata": {},
     "output_type": "execute_result"
    }
   ],
   "source": [
    "clf.predict_proba(np.array([hog1.ravel()]))[0][0]"
   ]
  },
  {
   "cell_type": "code",
   "execution_count": 52,
   "id": "3733ef65-e679-43c3-8a4e-f936ff108f41",
   "metadata": {},
   "outputs": [
    {
     "data": {
      "text/plain": [
       "array([0, 1])"
      ]
     },
     "execution_count": 52,
     "metadata": {},
     "output_type": "execute_result"
    }
   ],
   "source": [
    "clf.classes_"
   ]
  },
  {
   "cell_type": "code",
   "execution_count": 38,
   "id": "1f6e67cd-c197-42df-954b-7fe269cc4bd7",
   "metadata": {},
   "outputs": [
    {
     "data": {
      "text/plain": [
       "0"
      ]
     },
     "execution_count": 38,
     "metadata": {},
     "output_type": "execute_result"
    }
   ],
   "source": [
    "clf.predict(np.array([hog1.ravel()])).item()"
   ]
  },
  {
   "cell_type": "code",
   "execution_count": 31,
   "id": "0faf8fcc-596f-4b26-b34a-61d570ae51b6",
   "metadata": {},
   "outputs": [
    {
     "data": {
      "application/vnd.jupyter.widget-view+json": {
       "model_id": "d8eee9eabf7848e794c29c1e409be360",
       "version_major": 2,
       "version_minor": 0
      },
      "text/plain": [
       "RFBOutputContext()"
      ]
     },
     "metadata": {},
     "output_type": "display_data"
    },
    {
     "data": {
      "text/html": [
       "<div class='initial-snapshot-5f8f09c107d240a3979f93e413505eef' style='position:relative;'><img src='data:image/png;base64,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' style='width:500.0px;height:300.0px;' /><div style='position: absolute; top:0; left:0; padding:1px 3px; background: #777; color:#fff; font-size: 90%; font-family:sans-serif; '>initial snapshot</div></div>"
      ],
      "text/plain": [
       "<jupyter_rfb._utils.Snapshot object>"
      ]
     },
     "metadata": {},
     "output_type": "display_data"
    },
    {
     "data": {
      "application/vnd.jupyter.widget-view+json": {
       "model_id": "5f8f09c107d240a3979f93e413505eef",
       "version_major": 2,
       "version_minor": 0
      },
      "text/plain": [
       "JupyterWgpuCanvas()"
      ]
     },
     "execution_count": 31,
     "metadata": {},
     "output_type": "execute_result"
    }
   ],
   "source": [
    "from fastplotlib import Plot\n",
    "\n",
    "plot = Plot()\n",
    "\n",
    "plot.camera.scale.y=-1\n",
    "\n",
    "plot.add_image(clf.coef_.reshape(hog1.shape), cmap=\"magma\")\n",
    "\n",
    "plot.show()"
   ]
  },
  {
   "cell_type": "markdown",
   "id": "14b72947-5bda-41ea-9655-6f61269f2005",
   "metadata": {},
   "source": [
    "## prediction with another video"
   ]
  },
  {
   "cell_type": "code",
   "execution_count": 39,
   "id": "ed3ca455-a719-4ef1-9b2e-28cefd6f1f9b",
   "metadata": {},
   "outputs": [],
   "source": [
    "video_path2 = \"/data/kushal/cortex-learning/2p-trial-exps/eaf3/2022-12-18/behavior/s4/eaf3_2022-12-18_s4_side_v029.avi\""
   ]
  },
  {
   "cell_type": "code",
   "execution_count": 40,
   "id": "6eed6035-3425-4eff-ac52-2fe75b338048",
   "metadata": {},
   "outputs": [],
   "source": [
    "vr = VideoReader(video_path2)"
   ]
  },
  {
   "cell_type": "code",
   "execution_count": 41,
   "id": "1968f09c-6a04-4da3-9642-c11789ac4c39",
   "metadata": {},
   "outputs": [],
   "source": [
    "to_gray = lambda f: cv2.cvtColor(f, cv2.COLOR_BGR2GRAY)"
   ]
  },
  {
   "cell_type": "code",
   "execution_count": 48,
   "id": "8cb619f4-fd2b-4012-8012-9e6176720ed8",
   "metadata": {},
   "outputs": [],
   "source": [
    "import math"
   ]
  },
  {
   "cell_type": "code",
   "execution_count": 57,
   "id": "be1f0208-2e0b-4bf6-993b-7cdd23025951",
   "metadata": {},
   "outputs": [
    {
     "data": {
      "application/vnd.jupyter.widget-view+json": {
       "model_id": "2ba7ab41ba714562adc592522101b1f3",
       "version_major": 2,
       "version_minor": 0
      },
      "text/plain": [
       "RFBOutputContext()"
      ]
     },
     "metadata": {},
     "output_type": "display_data"
    },
    {
     "data": {
      "application/vnd.jupyter.widget-view+json": {
       "model_id": "571c0813c24342c08f30a80deb2fb667",
       "version_major": 2,
       "version_minor": 0
      },
      "text/plain": [
       "VBox(children=(JupyterWgpuCanvas(), IntSlider(value=0, max=10653)))"
      ]
     },
     "metadata": {},
     "output_type": "display_data"
    }
   ],
   "source": [
    "gp = GridPlot(shape=(1,2), names=[[\"raw\", \"hog\"]])\n",
    "\n",
    "\n",
    "gp[0,0].camera.scale.y = -1\n",
    "gp[0,1].camera.scale.y = -1\n",
    "\n",
    "frame0 = to_gray(vr[0].asnumpy())\n",
    "\n",
    "\n",
    "fd, hog0 = hog(\n",
    "    frame0, \n",
    "    orientations=8, \n",
    "    pixels_per_cell=(8,8), \n",
    "    cells_per_block=(1,1), \n",
    "    visualize=True\n",
    ")\n",
    "\n",
    "gp[\"raw\"].add_image(frame0, cmap=\"gray\")\n",
    "gp[\"hog\"].add_image(hog0, cmap=\"gray\")\n",
    "\n",
    "slider = IntSlider(min=0, max=len(vr)-1, step=1, value=0)\n",
    "\n",
    "def update_movie(change):\n",
    "    index = change[\"new\"]\n",
    "    new = to_gray(vr[index].asnumpy())\n",
    "    gp[\"raw\"].graphics[0].data = new\n",
    "    fd, new_hog = hog(\n",
    "        new, \n",
    "        orientations=8, \n",
    "        pixels_per_cell=(8,8), \n",
    "        cells_per_block=(1,1), \n",
    "        visualize=True\n",
    "    )\n",
    "\n",
    "    gp[\"hog\"].graphics[0].data = new_hog\n",
    "    \n",
    "    classify = clf.predict(np.array([new_hog.ravel()])).item()\n",
    "    prob = clf.predict_proba(np.array([new_hog.ravel()]))[0]\n",
    "    if classify == 0:\n",
    "        gp[0,1].set_title(f\"no lift: {prob[0]:.3f}\")\n",
    "    else:\n",
    "        gp[0,1].set_title(f\"lift: {prob[1]:.2f}\")\n",
    "    \n",
    "slider.observe(update_movie, \"value\")\n",
    "    \n",
    "# Use an ipywidgets VBox to show the plot and slider\n",
    "VBox([gp.show(), slider])"
   ]
  },
  {
   "cell_type": "code",
   "execution_count": null,
   "id": "352a7389-8289-4493-8d37-b41527f835b8",
   "metadata": {},
   "outputs": [],
   "source": []
  }
 ],
 "metadata": {
  "kernelspec": {
   "display_name": "Python 3 (ipykernel)",
   "language": "python",
   "name": "python3"
  },
  "language_info": {
   "codemirror_mode": {
    "name": "ipython",
    "version": 3
   },
   "file_extension": ".py",
   "mimetype": "text/x-python",
   "name": "python",
   "nbconvert_exporter": "python",
   "pygments_lexer": "ipython3",
   "version": "3.9.2"
  }
 },
 "nbformat": 4,
 "nbformat_minor": 5
}
