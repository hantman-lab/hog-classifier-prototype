{
 "cells": [
  {
   "cell_type": "markdown",
   "id": "b283082b-9168-4369-a85c-2401dcb4e535",
   "metadata": {},
   "source": [
    "# Dynamically view HOG features on CPU using fastplotlib"
   ]
  },
  {
   "cell_type": "code",
   "execution_count": 1,
   "id": "81df5fca-d105-4223-9ce3-42cc87f58710",
   "metadata": {},
   "outputs": [],
   "source": [
    "from fastplotlib.layouts import GridPlot\n",
    "from ipywidgets import IntSlider, VBox\n",
    "from skimage.feature import hog\n",
    "from skimage import data, exposure\n",
    "from decord import VideoReader\n",
    "import cv2\n",
    "import numpy as np"
   ]
  },
  {
   "cell_type": "code",
   "execution_count": 2,
   "id": "91659521-4176-43f5-8edb-a6f4874839c1",
   "metadata": {},
   "outputs": [],
   "source": [
    "video_path = \"/home/clewis7/repos/hog-classifier-prototype/eaf3_2022-12-18_s4_side_v028.avi\""
   ]
  },
  {
   "cell_type": "code",
   "execution_count": 3,
   "id": "c7c0e23c-4391-4b4f-befb-2b050a3eae52",
   "metadata": {},
   "outputs": [],
   "source": [
    "# lazy load of frames into memory\n",
    "vr = VideoReader(video_path)"
   ]
  },
  {
   "cell_type": "code",
   "execution_count": 4,
   "id": "17054688-03f0-4e91-898f-47710ef70ce1",
   "metadata": {},
   "outputs": [],
   "source": [
    "# lambda function to convert frames to gray scale for visualization with fastplotlib\n",
    "# fastplotlib currently does not support visualization of rgb images\n",
    "to_gray = lambda f: cv2.cvtColor(f, cv2.COLOR_BGR2GRAY)"
   ]
  },
  {
   "cell_type": "code",
   "execution_count": 5,
   "id": "c5934ec3-e5c9-4120-adee-b7189061c6a3",
   "metadata": {},
   "outputs": [
    {
     "data": {
      "application/vnd.jupyter.widget-view+json": {
       "model_id": "13d8c6be3e2b4eb7be9468d72d5b98ac",
       "version_major": 2,
       "version_minor": 0
      },
      "text/plain": [
       "RFBOutputContext()"
      ]
     },
     "metadata": {},
     "output_type": "display_data"
    },
    {
     "data": {
      "application/vnd.jupyter.widget-view+json": {
       "model_id": "13d9a9ab616345c79f07f71f8c1703ff",
       "version_major": 2,
       "version_minor": 0
      },
      "text/plain": [
       "VBox(children=(JupyterWgpuCanvas(), IntSlider(value=0, max=10623)))"
      ]
     },
     "metadata": {},
     "output_type": "display_data"
    }
   ],
   "source": [
    "# create a plot to dynamically view the raw behavior beside the calculated hog features\n",
    "gp = GridPlot(shape=(1,2), names=[[\"raw\", \"hog\"]])\n",
    "\n",
    "# invert images to be seen properly\n",
    "gp[0,0].camera.scale.y = -1\n",
    "gp[0,1].camera.scale.y = -1\n",
    "\n",
    "# convert first frame to gray-scale\n",
    "frame0 = to_gray(vr[0].asnumpy())\n",
    "\n",
    "# calculate hog features for a single frame\n",
    "fd, hog0 = hog(\n",
    "    frame0, \n",
    "    orientations=8, \n",
    "    pixels_per_cell=(8,8), \n",
    "    cells_per_block=(1,1), \n",
    "    visualize=True\n",
    ")\n",
    "\n",
    "# add raw images and hog features to plot\n",
    "gp[\"raw\"].add_image(frame0, cmap=\"gray\")\n",
    "gp[\"hog\"].add_image(hog0, cmap=\"gray\")\n",
    "\n",
    "# create slider to dynamically move through behavior trial\n",
    "slider = IntSlider(min=0, max=len(vr)-1, step=1, value=0)\n",
    "\n",
    "# animation to dynamically update plot\n",
    "def update_movie(change):\n",
    "    index = change[\"new\"]\n",
    "    new = to_gray(vr[index].asnumpy())\n",
    "    gp[\"raw\"].graphics[0].data = new\n",
    "    fd, new_hog = hog(\n",
    "        new, \n",
    "        orientations=8, \n",
    "        pixels_per_cell=(8,8), \n",
    "        cells_per_block=(1,1), \n",
    "        visualize=True\n",
    "    )\n",
    "\n",
    "    gp[\"hog\"].graphics[0].data = new_hog\n",
    "    \n",
    "slider.observe(update_movie, \"value\")\n",
    "    \n",
    "# use an ipywidgets VBox to show the plot and slider\n",
    "VBox([gp.show(), slider])"
   ]
  },
  {
   "cell_type": "markdown",
   "id": "31be584f-d1af-4587-9bb5-c3441c90ee3a",
   "metadata": {},
   "source": [
    "# Logistic Regression for classifying the \"lift\" behavior in reach-to-grab task"
   ]
  },
  {
   "cell_type": "code",
   "execution_count": 6,
   "id": "190e8ca4-6f25-4690-9b84-50ff2356ec60",
   "metadata": {},
   "outputs": [],
   "source": [
    "# initialize labels for each frame of the trial\n",
    "labels = np.zeros(10623, dtype=int)"
   ]
  },
  {
   "cell_type": "code",
   "execution_count": 8,
   "id": "f447977e-73a3-4887-b0fb-b0be4714f005",
   "metadata": {},
   "outputs": [],
   "source": [
    "# change labels for frames where behavior is occurring\n",
    "labels[1636:1660]=1"
   ]
  },
  {
   "cell_type": "code",
   "execution_count": 9,
   "id": "b76676cf-f25d-4767-8591-d1739390e442",
   "metadata": {},
   "outputs": [],
   "source": [
    "labels[1713:1741]=1"
   ]
  },
  {
   "cell_type": "code",
   "execution_count": 10,
   "id": "f24cf71b-0f9a-48be-8062-ba7768b4e9c4",
   "metadata": {},
   "outputs": [],
   "source": [
    "labels[2895:2915]=1"
   ]
  },
  {
   "cell_type": "code",
   "execution_count": 11,
   "id": "a3e3333f-1f4a-4c89-8021-32ddd30b9adc",
   "metadata": {},
   "outputs": [],
   "source": [
    "from sklearn.linear_model import LogisticRegression"
   ]
  },
  {
   "cell_type": "code",
   "execution_count": 24,
   "id": "e8216f20-45e0-44fa-a578-263ab640606e",
   "metadata": {},
   "outputs": [],
   "source": [
    "clf = LogisticRegression(max_iter=1_000)"
   ]
  },
  {
   "cell_type": "code",
   "execution_count": 13,
   "id": "22182355-24ed-49cc-8dbb-4f6427c33703",
   "metadata": {},
   "outputs": [],
   "source": [
    "from tqdm import tqdm"
   ]
  },
  {
   "cell_type": "code",
   "execution_count": 20,
   "id": "e97e93c8-a397-4c8a-b408-615d8f8f88c1",
   "metadata": {},
   "outputs": [
    {
     "name": "stderr",
     "output_type": "stream",
     "text": [
      "100%|██████████████████████████████████████████| 400/400 [00:28<00:00, 13.96it/s]\n"
     ]
    }
   ],
   "source": [
    "# calculating the hog features for frames to be used in training\n",
    "hogs = list()\n",
    "for frame in tqdm(range(1400,1800)):\n",
    "    new = to_gray(vr[frame].asnumpy())\n",
    "    fd, hog1 = hog(\n",
    "        new, \n",
    "        orientations=8, \n",
    "        pixels_per_cell=(8,8), \n",
    "        cells_per_block=(1,1), \n",
    "        visualize=True\n",
    "    )\n",
    "    hogs.append(hog1.ravel())"
   ]
  },
  {
   "cell_type": "code",
   "execution_count": 25,
   "id": "cc075e9d-0d34-4b77-95d3-9df16a0f5a11",
   "metadata": {},
   "outputs": [
    {
     "data": {
      "text/html": [
       "<style>#sk-container-id-3 {color: black;background-color: white;}#sk-container-id-3 pre{padding: 0;}#sk-container-id-3 div.sk-toggleable {background-color: white;}#sk-container-id-3 label.sk-toggleable__label {cursor: pointer;display: block;width: 100%;margin-bottom: 0;padding: 0.3em;box-sizing: border-box;text-align: center;}#sk-container-id-3 label.sk-toggleable__label-arrow:before {content: \"▸\";float: left;margin-right: 0.25em;color: #696969;}#sk-container-id-3 label.sk-toggleable__label-arrow:hover:before {color: black;}#sk-container-id-3 div.sk-estimator:hover label.sk-toggleable__label-arrow:before {color: black;}#sk-container-id-3 div.sk-toggleable__content {max-height: 0;max-width: 0;overflow: hidden;text-align: left;background-color: #f0f8ff;}#sk-container-id-3 div.sk-toggleable__content pre {margin: 0.2em;color: black;border-radius: 0.25em;background-color: #f0f8ff;}#sk-container-id-3 input.sk-toggleable__control:checked~div.sk-toggleable__content {max-height: 200px;max-width: 100%;overflow: auto;}#sk-container-id-3 input.sk-toggleable__control:checked~label.sk-toggleable__label-arrow:before {content: \"▾\";}#sk-container-id-3 div.sk-estimator input.sk-toggleable__control:checked~label.sk-toggleable__label {background-color: #d4ebff;}#sk-container-id-3 div.sk-label input.sk-toggleable__control:checked~label.sk-toggleable__label {background-color: #d4ebff;}#sk-container-id-3 input.sk-hidden--visually {border: 0;clip: rect(1px 1px 1px 1px);clip: rect(1px, 1px, 1px, 1px);height: 1px;margin: -1px;overflow: hidden;padding: 0;position: absolute;width: 1px;}#sk-container-id-3 div.sk-estimator {font-family: monospace;background-color: #f0f8ff;border: 1px dotted black;border-radius: 0.25em;box-sizing: border-box;margin-bottom: 0.5em;}#sk-container-id-3 div.sk-estimator:hover {background-color: #d4ebff;}#sk-container-id-3 div.sk-parallel-item::after {content: \"\";width: 100%;border-bottom: 1px solid gray;flex-grow: 1;}#sk-container-id-3 div.sk-label:hover label.sk-toggleable__label {background-color: #d4ebff;}#sk-container-id-3 div.sk-serial::before {content: \"\";position: absolute;border-left: 1px solid gray;box-sizing: border-box;top: 0;bottom: 0;left: 50%;z-index: 0;}#sk-container-id-3 div.sk-serial {display: flex;flex-direction: column;align-items: center;background-color: white;padding-right: 0.2em;padding-left: 0.2em;position: relative;}#sk-container-id-3 div.sk-item {position: relative;z-index: 1;}#sk-container-id-3 div.sk-parallel {display: flex;align-items: stretch;justify-content: center;background-color: white;position: relative;}#sk-container-id-3 div.sk-item::before, #sk-container-id-3 div.sk-parallel-item::before {content: \"\";position: absolute;border-left: 1px solid gray;box-sizing: border-box;top: 0;bottom: 0;left: 50%;z-index: -1;}#sk-container-id-3 div.sk-parallel-item {display: flex;flex-direction: column;z-index: 1;position: relative;background-color: white;}#sk-container-id-3 div.sk-parallel-item:first-child::after {align-self: flex-end;width: 50%;}#sk-container-id-3 div.sk-parallel-item:last-child::after {align-self: flex-start;width: 50%;}#sk-container-id-3 div.sk-parallel-item:only-child::after {width: 0;}#sk-container-id-3 div.sk-dashed-wrapped {border: 1px dashed gray;margin: 0 0.4em 0.5em 0.4em;box-sizing: border-box;padding-bottom: 0.4em;background-color: white;}#sk-container-id-3 div.sk-label label {font-family: monospace;font-weight: bold;display: inline-block;line-height: 1.2em;}#sk-container-id-3 div.sk-label-container {text-align: center;}#sk-container-id-3 div.sk-container {/* jupyter's `normalize.less` sets `[hidden] { display: none; }` but bootstrap.min.css set `[hidden] { display: none !important; }` so we also need the `!important` here to be able to override the default hidden behavior on the sphinx rendered scikit-learn.org. See: https://github.com/scikit-learn/scikit-learn/issues/21755 */display: inline-block !important;position: relative;}#sk-container-id-3 div.sk-text-repr-fallback {display: none;}</style><div id=\"sk-container-id-3\" class=\"sk-top-container\"><div class=\"sk-text-repr-fallback\"><pre>LogisticRegression(max_iter=1000)</pre><b>In a Jupyter environment, please rerun this cell to show the HTML representation or trust the notebook. <br />On GitHub, the HTML representation is unable to render, please try loading this page with nbviewer.org.</b></div><div class=\"sk-container\" hidden><div class=\"sk-item\"><div class=\"sk-estimator sk-toggleable\"><input class=\"sk-toggleable__control sk-hidden--visually\" id=\"sk-estimator-id-3\" type=\"checkbox\" checked><label for=\"sk-estimator-id-3\" class=\"sk-toggleable__label sk-toggleable__label-arrow\">LogisticRegression</label><div class=\"sk-toggleable__content\"><pre>LogisticRegression(max_iter=1000)</pre></div></div></div></div></div>"
      ],
      "text/plain": [
       "LogisticRegression(max_iter=1000)"
      ]
     },
     "execution_count": 25,
     "metadata": {},
     "output_type": "execute_result"
    }
   ],
   "source": [
    "# training linear regression model on hog features\n",
    "clf.fit(np.vstack(hogs), labels[1400:1800])"
   ]
  },
  {
   "cell_type": "markdown",
   "id": "14b72947-5bda-41ea-9655-6f61269f2005",
   "metadata": {},
   "source": [
    "## behavior prediction for \"lift\" behavior with another video"
   ]
  },
  {
   "cell_type": "code",
   "execution_count": 39,
   "id": "ed3ca455-a719-4ef1-9b2e-28cefd6f1f9b",
   "metadata": {},
   "outputs": [],
   "source": [
    "video_path2 = \"/data/kushal/cortex-learning/2p-trial-exps/eaf3/2022-12-18/behavior/s4/eaf3_2022-12-18_s4_side_v029.avi\""
   ]
  },
  {
   "cell_type": "code",
   "execution_count": 40,
   "id": "6eed6035-3425-4eff-ac52-2fe75b338048",
   "metadata": {},
   "outputs": [],
   "source": [
    "# lazy loading of frames into memory \n",
    "vr = VideoReader(video_path2)"
   ]
  },
  {
   "cell_type": "code",
   "execution_count": 48,
   "id": "8cb619f4-fd2b-4012-8012-9e6176720ed8",
   "metadata": {},
   "outputs": [],
   "source": [
    "import math"
   ]
  },
  {
   "cell_type": "code",
   "execution_count": 57,
   "id": "be1f0208-2e0b-4bf6-993b-7cdd23025951",
   "metadata": {},
   "outputs": [
    {
     "data": {
      "application/vnd.jupyter.widget-view+json": {
       "model_id": "2ba7ab41ba714562adc592522101b1f3",
       "version_major": 2,
       "version_minor": 0
      },
      "text/plain": [
       "RFBOutputContext()"
      ]
     },
     "metadata": {},
     "output_type": "display_data"
    },
    {
     "data": {
      "application/vnd.jupyter.widget-view+json": {
       "model_id": "571c0813c24342c08f30a80deb2fb667",
       "version_major": 2,
       "version_minor": 0
      },
      "text/plain": [
       "VBox(children=(JupyterWgpuCanvas(), IntSlider(value=0, max=10653)))"
      ]
     },
     "metadata": {},
     "output_type": "display_data"
    }
   ],
   "source": [
    "# creating another plot to show the results of testing the logistic regression\n",
    "# model on another trial\n",
    "gp = GridPlot(shape=(1,2), names=[[\"raw\", \"hog\"]])\n",
    "\n",
    "\n",
    "gp[0,0].camera.scale.y = -1\n",
    "gp[0,1].camera.scale.y = -1\n",
    "\n",
    "frame0 = to_gray(vr[0].asnumpy())\n",
    "\n",
    "fd, hog0 = hog(\n",
    "    frame0, \n",
    "    orientations=8, \n",
    "    pixels_per_cell=(8,8), \n",
    "    cells_per_block=(1,1), \n",
    "    visualize=True\n",
    ")\n",
    "\n",
    "gp[\"raw\"].add_image(frame0, cmap=\"gray\")\n",
    "gp[\"hog\"].add_image(hog0, cmap=\"gray\")\n",
    "\n",
    "slider = IntSlider(min=0, max=len(vr)-1, step=1, value=0)\n",
    "\n",
    "def update_movie(change):\n",
    "    index = change[\"new\"]\n",
    "    new = to_gray(vr[index].asnumpy())\n",
    "    gp[\"raw\"].graphics[0].data = new\n",
    "    fd, new_hog = hog(\n",
    "        new, \n",
    "        orientations=8, \n",
    "        pixels_per_cell=(8,8), \n",
    "        cells_per_block=(1,1), \n",
    "        visualize=True\n",
    "    )\n",
    "\n",
    "    gp[\"hog\"].graphics[0].data = new_hog\n",
    "    \n",
    "    # depending on classification prediction, plot will reflect whether \n",
    "    # behavior is occurring or not and with what confidence\n",
    "    classify = clf.predict(np.array([new_hog.ravel()])).item()\n",
    "    prob = clf.predict_proba(np.array([new_hog.ravel()]))[0]\n",
    "    if classify == 0:\n",
    "        gp[0,1].set_title(f\"no lift: {prob[0]:.3f}\")\n",
    "    else:\n",
    "        gp[0,1].set_title(f\"lift: {prob[1]:.2f}\")\n",
    "    \n",
    "slider.observe(update_movie, \"value\")\n",
    "    \n",
    "# use an ipywidgets VBox to show the plot and slider\n",
    "VBox([gp.show(), slider])"
   ]
  },
  {
   "cell_type": "code",
   "execution_count": null,
   "id": "352a7389-8289-4493-8d37-b41527f835b8",
   "metadata": {},
   "outputs": [],
   "source": []
  }
 ],
 "metadata": {
  "kernelspec": {
   "display_name": "Python 3 (ipykernel)",
   "language": "python",
   "name": "python3"
  },
  "language_info": {
   "codemirror_mode": {
    "name": "ipython",
    "version": 3
   },
   "file_extension": ".py",
   "mimetype": "text/x-python",
   "name": "python",
   "nbconvert_exporter": "python",
   "pygments_lexer": "ipython3",
   "version": "3.11.1"
  }
 },
 "nbformat": 4,
 "nbformat_minor": 5
}
